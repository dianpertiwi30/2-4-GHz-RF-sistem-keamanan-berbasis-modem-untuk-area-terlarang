{
  "nbformat": 4,
  "nbformat_minor": 0,
  "metadata": {
    "colab": {
      "name": "Kelompok_satu.ipynb",
      "provenance": [],
      "collapsed_sections": [],
      "toc_visible": true,
      "include_colab_link": true
    },
    "kernelspec": {
      "name": "python3",
      "display_name": "Python 3"
    },
    "language_info": {
      "name": "python"
    }
  },
  "cells": [
    {
      "cell_type": "markdown",
      "metadata": {
        "id": "view-in-github",
        "colab_type": "text"
      },
      "source": [
        "<a href=\"https://colab.research.google.com/github/dianpertiwi30/2-4-GHz-RF-sistem-keamanan-berbasis-modem-untuk-area-terlarang/blob/main/Kelompok_satu.ipynb\" target=\"_parent\"><img src=\"https://colab.research.google.com/assets/colab-badge.svg\" alt=\"Open In Colab\"/></a>"
      ]
    },
    {
      "cell_type": "markdown",
      "metadata": {
        "id": "TIMPlToOTJbb"
      },
      "source": [
        "<h1>Nama Kelompok : \n",
        "<h1>1. Dafa Arrsyd (1803421009)<br>\n",
        "<h1>2. Dian Pertiwi (1803421009)<br>\n",
        "<h1>3. Omar Rais Damas S. (1803421028)"
      ]
    },
    {
      "cell_type": "markdown",
      "metadata": {
        "id": "RIsm-NYqVqpA"
      },
      "source": [
        "<h1> Soal : <br>\n",
        "Secara kelompok carilah data dan olah dengan Google Colabs untuk menampilkan data-data statistik range tahun (2019-2020) di indonesia."
      ]
    },
    {
      "cell_type": "markdown",
      "metadata": {
        "id": "mRuUFVg_ZPJV"
      },
      "source": [
        "<h1>Penyedia Mobile Broadband Tercepat (telkomsel, Smartfren, Indosat, XL, Three)"
      ]
    },
    {
      "cell_type": "markdown",
      "metadata": {
        "id": "eZGSeWOGFAXW"
      },
      "source": [
        "# Import Data "
      ]
    },
    {
      "cell_type": "code",
      "metadata": {
        "colab": {
          "base_uri": "https://localhost:8080/",
          "height": 326
        },
        "id": "KQSuw_N0E_l8",
        "outputId": "c5640eea-6189-49b8-87d5-b2922aae9bb5"
      },
      "source": [
        "import pandas as pd\n",
        "\n",
        "pd.read_excel('provider.xlsx')"
      ],
      "execution_count": null,
      "outputs": [
        {
          "output_type": "execute_result",
          "data": {
            "text/html": [
              "<div>\n",
              "<style scoped>\n",
              "    .dataframe tbody tr th:only-of-type {\n",
              "        vertical-align: middle;\n",
              "    }\n",
              "\n",
              "    .dataframe tbody tr th {\n",
              "        vertical-align: top;\n",
              "    }\n",
              "\n",
              "    .dataframe thead th {\n",
              "        text-align: right;\n",
              "    }\n",
              "</style>\n",
              "<table border=\"1\" class=\"dataframe\">\n",
              "  <thead>\n",
              "    <tr style=\"text-align: right;\">\n",
              "      <th></th>\n",
              "      <th>provider</th>\n",
              "      <th>kecepatan_download_keseluruhan</th>\n",
              "      <th>kecepatan_download_4g</th>\n",
              "      <th>kecepatan_download (3G)</th>\n",
              "      <th>Kecepatan Upload</th>\n",
              "      <th>Latensi (4G)</th>\n",
              "      <th>Latensi (3G)</th>\n",
              "      <th>Ketersediaan (4G)</th>\n",
              "    </tr>\n",
              "  </thead>\n",
              "  <tbody>\n",
              "    <tr>\n",
              "      <th>0</th>\n",
              "      <td>Smartfren :</td>\n",
              "      <td>9.83 Mbps</td>\n",
              "      <td>9.83 Mbps</td>\n",
              "      <td>0</td>\n",
              "      <td>2.73 Mbps</td>\n",
              "      <td>60.18 ms</td>\n",
              "      <td>0</td>\n",
              "      <td>92.59 persen</td>\n",
              "    </tr>\n",
              "    <tr>\n",
              "      <th>1</th>\n",
              "      <td>Telkomsel :</td>\n",
              "      <td>8.42 Mbps</td>\n",
              "      <td>12.86 Mbps</td>\n",
              "      <td>4.99 Mbps</td>\n",
              "      <td>7.26 Mbps</td>\n",
              "      <td>43.53 ms</td>\n",
              "      <td>81.2 ms</td>\n",
              "      <td>69.56 persen</td>\n",
              "    </tr>\n",
              "    <tr>\n",
              "      <th>2</th>\n",
              "      <td>XL :</td>\n",
              "      <td>6.06 Mbps</td>\n",
              "      <td>8.86 Mbps</td>\n",
              "      <td>2.93 Mbps</td>\n",
              "      <td>5.07 Mbps</td>\n",
              "      <td>61.01 ms</td>\n",
              "      <td>103.53 ms</td>\n",
              "      <td>76.22 persen</td>\n",
              "    </tr>\n",
              "    <tr>\n",
              "      <th>3</th>\n",
              "      <td>Three (3) :</td>\n",
              "      <td>3.76 Mbps</td>\n",
              "      <td>4.57 Mbps</td>\n",
              "      <td>2.82 Mbps</td>\n",
              "      <td>3.76 Mbps</td>\n",
              "      <td>59.08 ms</td>\n",
              "      <td>111.96 ms</td>\n",
              "      <td>83.66 persen</td>\n",
              "    </tr>\n",
              "    <tr>\n",
              "      <th>4</th>\n",
              "      <td>Indosat :</td>\n",
              "      <td>3.18 Mbps</td>\n",
              "      <td>4.79 Mbps</td>\n",
              "      <td>1.56 Mbps</td>\n",
              "      <td>3.17 Mbps</td>\n",
              "      <td>73.64 ms</td>\n",
              "      <td>136.44 ms</td>\n",
              "      <td>70.84 persen</td>\n",
              "    </tr>\n",
              "  </tbody>\n",
              "</table>\n",
              "</div>"
            ],
            "text/plain": [
              "       provider kecepatan_download_keseluruhan  ... Latensi (3G) Ketersediaan (4G)\n",
              "0   Smartfren :                     9.83 Mbps   ...            0     92.59 persen \n",
              "1  Telkomsel :                      8.42 Mbps   ...      81.2 ms      69.56 persen\n",
              "2         XL :                      6.06 Mbps   ...    103.53 ms     76.22 persen \n",
              "3   Three (3) :                     3.76 Mbps   ...    111.96 ms     83.66 persen \n",
              "4    Indosat :                      3.18 Mbps   ...    136.44 ms     70.84 persen \n",
              "\n",
              "[5 rows x 8 columns]"
            ]
          },
          "metadata": {
            "tags": []
          },
          "execution_count": 15
        }
      ]
    },
    {
      "cell_type": "markdown",
      "metadata": {
        "id": "AZRJmou8GF_V"
      },
      "source": [
        "# Deskripsi Data "
      ]
    },
    {
      "cell_type": "code",
      "metadata": {
        "colab": {
          "base_uri": "https://localhost:8080/",
          "height": 244
        },
        "id": "SMK5G1FXGI8H",
        "outputId": "6111e3a8-ea15-4926-dbcf-3fa6d774576d"
      },
      "source": [
        "df = pd.read_excel('provider.xlsx')\n",
        "\n",
        "# Ukuran tabel\n",
        "print(df.shape)\n",
        "\n",
        "# Deskripsi tabel\n",
        "df.describe()"
      ],
      "execution_count": null,
      "outputs": [
        {
          "output_type": "stream",
          "text": [
            "(5, 8)\n"
          ],
          "name": "stdout"
        },
        {
          "output_type": "execute_result",
          "data": {
            "text/html": [
              "<div>\n",
              "<style scoped>\n",
              "    .dataframe tbody tr th:only-of-type {\n",
              "        vertical-align: middle;\n",
              "    }\n",
              "\n",
              "    .dataframe tbody tr th {\n",
              "        vertical-align: top;\n",
              "    }\n",
              "\n",
              "    .dataframe thead th {\n",
              "        text-align: right;\n",
              "    }\n",
              "</style>\n",
              "<table border=\"1\" class=\"dataframe\">\n",
              "  <thead>\n",
              "    <tr style=\"text-align: right;\">\n",
              "      <th></th>\n",
              "      <th>provider</th>\n",
              "      <th>kecepatan_download_keseluruhan</th>\n",
              "      <th>kecepatan_download_4g</th>\n",
              "      <th>kecepatan_download (3G)</th>\n",
              "      <th>Kecepatan Upload</th>\n",
              "      <th>Latensi (4G)</th>\n",
              "      <th>Latensi (3G)</th>\n",
              "      <th>Ketersediaan (4G)</th>\n",
              "    </tr>\n",
              "  </thead>\n",
              "  <tbody>\n",
              "    <tr>\n",
              "      <th>count</th>\n",
              "      <td>5</td>\n",
              "      <td>5</td>\n",
              "      <td>5</td>\n",
              "      <td>5</td>\n",
              "      <td>5</td>\n",
              "      <td>5</td>\n",
              "      <td>5</td>\n",
              "      <td>5</td>\n",
              "    </tr>\n",
              "    <tr>\n",
              "      <th>unique</th>\n",
              "      <td>5</td>\n",
              "      <td>5</td>\n",
              "      <td>5</td>\n",
              "      <td>5</td>\n",
              "      <td>5</td>\n",
              "      <td>5</td>\n",
              "      <td>5</td>\n",
              "      <td>5</td>\n",
              "    </tr>\n",
              "    <tr>\n",
              "      <th>top</th>\n",
              "      <td>XL :</td>\n",
              "      <td>8.42 Mbps</td>\n",
              "      <td>4.79 Mbps</td>\n",
              "      <td>2.82 Mbps</td>\n",
              "      <td>2.73 Mbps</td>\n",
              "      <td>60.18 ms</td>\n",
              "      <td>136.44 ms</td>\n",
              "      <td>83.66 persen</td>\n",
              "    </tr>\n",
              "    <tr>\n",
              "      <th>freq</th>\n",
              "      <td>1</td>\n",
              "      <td>1</td>\n",
              "      <td>1</td>\n",
              "      <td>1</td>\n",
              "      <td>1</td>\n",
              "      <td>1</td>\n",
              "      <td>1</td>\n",
              "      <td>1</td>\n",
              "    </tr>\n",
              "  </tbody>\n",
              "</table>\n",
              "</div>"
            ],
            "text/plain": [
              "       provider kecepatan_download_keseluruhan  ... Latensi (3G) Ketersediaan (4G)\n",
              "count         5                              5  ...            5                 5\n",
              "unique        5                              5  ...            5                 5\n",
              "top       XL :                      8.42 Mbps   ...    136.44 ms     83.66 persen \n",
              "freq          1                              1  ...            1                 1\n",
              "\n",
              "[4 rows x 8 columns]"
            ]
          },
          "metadata": {
            "tags": []
          },
          "execution_count": 16
        }
      ]
    },
    {
      "cell_type": "markdown",
      "metadata": {
        "id": "318k7NugGUsC"
      },
      "source": [
        "# Operasi Kolom "
      ]
    },
    {
      "cell_type": "code",
      "metadata": {
        "colab": {
          "base_uri": "https://localhost:8080/"
        },
        "id": "DxXLkGauGXml",
        "outputId": "23c39bb0-60b5-4eeb-9a9c-2b1d25dac11f"
      },
      "source": [
        "import pandas as pd\n",
        "\n",
        "df = pd.read_excel('provider.xlsx')\n",
        "\n",
        "# tipe datanya: Series (hanya 1 buah kolom)\n",
        "print(df['Latensi (4G)'])\n",
        "\n",
        "# tipe datanya : dataframe (labih dari 1 buah kolom)\n",
        "print(df[['Ketersediaan (4G)']])"
      ],
      "execution_count": null,
      "outputs": [
        {
          "output_type": "stream",
          "text": [
            "0    60.18 ms\n",
            "1    43.53 ms\n",
            "2    61.01 ms\n",
            "3    59.08 ms\n",
            "4    73.64 ms\n",
            "Name: Latensi (4G), dtype: object\n",
            "  Ketersediaan (4G)\n",
            "0     92.59 persen \n",
            "1      69.56 persen\n",
            "2     76.22 persen \n",
            "3     83.66 persen \n",
            "4     70.84 persen \n"
          ],
          "name": "stdout"
        }
      ]
    },
    {
      "cell_type": "markdown",
      "metadata": {
        "id": "i8KKLLbmHX23"
      },
      "source": [
        "# Menambah Kolom "
      ]
    },
    {
      "cell_type": "code",
      "metadata": {
        "colab": {
          "base_uri": "https://localhost:8080/",
          "height": 326
        },
        "id": "A85yV-Z0HZjU",
        "outputId": "082c8c63-88ac-408f-f922-3eb803123793"
      },
      "source": [
        "import pandas as pd\n",
        "\n",
        "df = pd.read_excel('provider.xlsx')\n",
        "\n",
        "kolombaru = df['Latensi (4G)']\n",
        "df.insert(1,\"Latensi 4G baru\", kolombaru)\n",
        "df"
      ],
      "execution_count": null,
      "outputs": [
        {
          "output_type": "execute_result",
          "data": {
            "text/html": [
              "<div>\n",
              "<style scoped>\n",
              "    .dataframe tbody tr th:only-of-type {\n",
              "        vertical-align: middle;\n",
              "    }\n",
              "\n",
              "    .dataframe tbody tr th {\n",
              "        vertical-align: top;\n",
              "    }\n",
              "\n",
              "    .dataframe thead th {\n",
              "        text-align: right;\n",
              "    }\n",
              "</style>\n",
              "<table border=\"1\" class=\"dataframe\">\n",
              "  <thead>\n",
              "    <tr style=\"text-align: right;\">\n",
              "      <th></th>\n",
              "      <th>provider</th>\n",
              "      <th>Latensi 4G baru</th>\n",
              "      <th>kecepatan_download_keseluruhan</th>\n",
              "      <th>kecepatan_download_4g</th>\n",
              "      <th>kecepatan_download (3G)</th>\n",
              "      <th>Kecepatan Upload</th>\n",
              "      <th>Latensi (4G)</th>\n",
              "      <th>Latensi (3G)</th>\n",
              "      <th>Ketersediaan (4G)</th>\n",
              "    </tr>\n",
              "  </thead>\n",
              "  <tbody>\n",
              "    <tr>\n",
              "      <th>0</th>\n",
              "      <td>Smartfren :</td>\n",
              "      <td>60.18 ms</td>\n",
              "      <td>9.83 Mbps</td>\n",
              "      <td>9.83 Mbps</td>\n",
              "      <td>0</td>\n",
              "      <td>2.73 Mbps</td>\n",
              "      <td>60.18 ms</td>\n",
              "      <td>0</td>\n",
              "      <td>92.59 persen</td>\n",
              "    </tr>\n",
              "    <tr>\n",
              "      <th>1</th>\n",
              "      <td>Telkomsel :</td>\n",
              "      <td>43.53 ms</td>\n",
              "      <td>8.42 Mbps</td>\n",
              "      <td>12.86 Mbps</td>\n",
              "      <td>4.99 Mbps</td>\n",
              "      <td>7.26 Mbps</td>\n",
              "      <td>43.53 ms</td>\n",
              "      <td>81.2 ms</td>\n",
              "      <td>69.56 persen</td>\n",
              "    </tr>\n",
              "    <tr>\n",
              "      <th>2</th>\n",
              "      <td>XL :</td>\n",
              "      <td>61.01 ms</td>\n",
              "      <td>6.06 Mbps</td>\n",
              "      <td>8.86 Mbps</td>\n",
              "      <td>2.93 Mbps</td>\n",
              "      <td>5.07 Mbps</td>\n",
              "      <td>61.01 ms</td>\n",
              "      <td>103.53 ms</td>\n",
              "      <td>76.22 persen</td>\n",
              "    </tr>\n",
              "    <tr>\n",
              "      <th>3</th>\n",
              "      <td>Three (3) :</td>\n",
              "      <td>59.08 ms</td>\n",
              "      <td>3.76 Mbps</td>\n",
              "      <td>4.57 Mbps</td>\n",
              "      <td>2.82 Mbps</td>\n",
              "      <td>3.76 Mbps</td>\n",
              "      <td>59.08 ms</td>\n",
              "      <td>111.96 ms</td>\n",
              "      <td>83.66 persen</td>\n",
              "    </tr>\n",
              "    <tr>\n",
              "      <th>4</th>\n",
              "      <td>Indosat :</td>\n",
              "      <td>73.64 ms</td>\n",
              "      <td>3.18 Mbps</td>\n",
              "      <td>4.79 Mbps</td>\n",
              "      <td>1.56 Mbps</td>\n",
              "      <td>3.17 Mbps</td>\n",
              "      <td>73.64 ms</td>\n",
              "      <td>136.44 ms</td>\n",
              "      <td>70.84 persen</td>\n",
              "    </tr>\n",
              "  </tbody>\n",
              "</table>\n",
              "</div>"
            ],
            "text/plain": [
              "       provider Latensi 4G baru  ... Latensi (3G) Ketersediaan (4G)\n",
              "0   Smartfren :        60.18 ms  ...            0     92.59 persen \n",
              "1  Telkomsel :         43.53 ms  ...      81.2 ms      69.56 persen\n",
              "2         XL :         61.01 ms  ...    103.53 ms     76.22 persen \n",
              "3   Three (3) :        59.08 ms  ...    111.96 ms     83.66 persen \n",
              "4    Indosat :         73.64 ms  ...    136.44 ms     70.84 persen \n",
              "\n",
              "[5 rows x 9 columns]"
            ]
          },
          "metadata": {
            "tags": []
          },
          "execution_count": 18
        }
      ]
    },
    {
      "cell_type": "markdown",
      "metadata": {
        "id": "geMXcgHHH-70"
      },
      "source": [
        "# mengahapus Kolom 0"
      ]
    },
    {
      "cell_type": "code",
      "metadata": {
        "colab": {
          "base_uri": "https://localhost:8080/",
          "height": 306
        },
        "id": "Zi1nbnzDIBCm",
        "outputId": "5ddc3713-c318-474d-c470-9cb6ff4e52bc"
      },
      "source": [
        "import pandas as pd\n",
        "\n",
        "df = pd.read_excel('provider.xlsx')\n",
        "\n",
        "dfbaru = df.drop(['Latensi (4G)'], axis=1)\n",
        "dfbaru"
      ],
      "execution_count": null,
      "outputs": [
        {
          "output_type": "execute_result",
          "data": {
            "text/html": [
              "<div>\n",
              "<style scoped>\n",
              "    .dataframe tbody tr th:only-of-type {\n",
              "        vertical-align: middle;\n",
              "    }\n",
              "\n",
              "    .dataframe tbody tr th {\n",
              "        vertical-align: top;\n",
              "    }\n",
              "\n",
              "    .dataframe thead th {\n",
              "        text-align: right;\n",
              "    }\n",
              "</style>\n",
              "<table border=\"1\" class=\"dataframe\">\n",
              "  <thead>\n",
              "    <tr style=\"text-align: right;\">\n",
              "      <th></th>\n",
              "      <th>provider</th>\n",
              "      <th>kecepatan_download_keseluruhan</th>\n",
              "      <th>kecepatan_download_4g</th>\n",
              "      <th>kecepatan_download (3G)</th>\n",
              "      <th>Kecepatan Upload</th>\n",
              "      <th>Latensi (3G)</th>\n",
              "      <th>Ketersediaan (4G)</th>\n",
              "    </tr>\n",
              "  </thead>\n",
              "  <tbody>\n",
              "    <tr>\n",
              "      <th>0</th>\n",
              "      <td>Smartfren :</td>\n",
              "      <td>9.83 Mbps</td>\n",
              "      <td>9.83 Mbps</td>\n",
              "      <td>0</td>\n",
              "      <td>2.73 Mbps</td>\n",
              "      <td>0</td>\n",
              "      <td>92.59 persen</td>\n",
              "    </tr>\n",
              "    <tr>\n",
              "      <th>1</th>\n",
              "      <td>Telkomsel :</td>\n",
              "      <td>8.42 Mbps</td>\n",
              "      <td>12.86 Mbps</td>\n",
              "      <td>4.99 Mbps</td>\n",
              "      <td>7.26 Mbps</td>\n",
              "      <td>81.2 ms</td>\n",
              "      <td>69.56 persen</td>\n",
              "    </tr>\n",
              "    <tr>\n",
              "      <th>2</th>\n",
              "      <td>XL :</td>\n",
              "      <td>6.06 Mbps</td>\n",
              "      <td>8.86 Mbps</td>\n",
              "      <td>2.93 Mbps</td>\n",
              "      <td>5.07 Mbps</td>\n",
              "      <td>103.53 ms</td>\n",
              "      <td>76.22 persen</td>\n",
              "    </tr>\n",
              "    <tr>\n",
              "      <th>3</th>\n",
              "      <td>Three (3) :</td>\n",
              "      <td>3.76 Mbps</td>\n",
              "      <td>4.57 Mbps</td>\n",
              "      <td>2.82 Mbps</td>\n",
              "      <td>3.76 Mbps</td>\n",
              "      <td>111.96 ms</td>\n",
              "      <td>83.66 persen</td>\n",
              "    </tr>\n",
              "    <tr>\n",
              "      <th>4</th>\n",
              "      <td>Indosat :</td>\n",
              "      <td>3.18 Mbps</td>\n",
              "      <td>4.79 Mbps</td>\n",
              "      <td>1.56 Mbps</td>\n",
              "      <td>3.17 Mbps</td>\n",
              "      <td>136.44 ms</td>\n",
              "      <td>70.84 persen</td>\n",
              "    </tr>\n",
              "  </tbody>\n",
              "</table>\n",
              "</div>"
            ],
            "text/plain": [
              "       provider kecepatan_download_keseluruhan  ... Latensi (3G) Ketersediaan (4G)\n",
              "0   Smartfren :                     9.83 Mbps   ...            0     92.59 persen \n",
              "1  Telkomsel :                      8.42 Mbps   ...      81.2 ms      69.56 persen\n",
              "2         XL :                      6.06 Mbps   ...    103.53 ms     76.22 persen \n",
              "3   Three (3) :                     3.76 Mbps   ...    111.96 ms     83.66 persen \n",
              "4    Indosat :                      3.18 Mbps   ...    136.44 ms     70.84 persen \n",
              "\n",
              "[5 rows x 7 columns]"
            ]
          },
          "metadata": {
            "tags": []
          },
          "execution_count": 19
        }
      ]
    },
    {
      "cell_type": "markdown",
      "metadata": {
        "id": "eeI8VtYLIrEl"
      },
      "source": [
        "# Mengubah Nama Kolom "
      ]
    },
    {
      "cell_type": "code",
      "metadata": {
        "colab": {
          "base_uri": "https://localhost:8080/",
          "height": 326
        },
        "id": "_9S9qIxyIs0v",
        "outputId": "44025039-f9ad-4f26-eb22-4fb2f54fee39"
      },
      "source": [
        "import pandas as pd\n",
        "\n",
        "df = pd.read_excel('provider.xlsx')\n",
        "\n",
        "kolomberubah = {\n",
        "      \"Ketersediaan (4G)\":\"ketersediaan 4G\",\n",
        "}\n",
        "dfbaru = df.rename(columns=kolomberubah)\n",
        "dfbaru"
      ],
      "execution_count": null,
      "outputs": [
        {
          "output_type": "execute_result",
          "data": {
            "text/html": [
              "<div>\n",
              "<style scoped>\n",
              "    .dataframe tbody tr th:only-of-type {\n",
              "        vertical-align: middle;\n",
              "    }\n",
              "\n",
              "    .dataframe tbody tr th {\n",
              "        vertical-align: top;\n",
              "    }\n",
              "\n",
              "    .dataframe thead th {\n",
              "        text-align: right;\n",
              "    }\n",
              "</style>\n",
              "<table border=\"1\" class=\"dataframe\">\n",
              "  <thead>\n",
              "    <tr style=\"text-align: right;\">\n",
              "      <th></th>\n",
              "      <th>provider</th>\n",
              "      <th>kecepatan_download_keseluruhan</th>\n",
              "      <th>kecepatan_download_4g</th>\n",
              "      <th>kecepatan_download (3G)</th>\n",
              "      <th>Kecepatan Upload</th>\n",
              "      <th>Latensi (4G)</th>\n",
              "      <th>Latensi (3G)</th>\n",
              "      <th>ketersediaan 4G</th>\n",
              "    </tr>\n",
              "  </thead>\n",
              "  <tbody>\n",
              "    <tr>\n",
              "      <th>0</th>\n",
              "      <td>Smartfren :</td>\n",
              "      <td>9.83 Mbps</td>\n",
              "      <td>9.83 Mbps</td>\n",
              "      <td>0</td>\n",
              "      <td>2.73 Mbps</td>\n",
              "      <td>60.18 ms</td>\n",
              "      <td>0</td>\n",
              "      <td>92.59 persen</td>\n",
              "    </tr>\n",
              "    <tr>\n",
              "      <th>1</th>\n",
              "      <td>Telkomsel :</td>\n",
              "      <td>8.42 Mbps</td>\n",
              "      <td>12.86 Mbps</td>\n",
              "      <td>4.99 Mbps</td>\n",
              "      <td>7.26 Mbps</td>\n",
              "      <td>43.53 ms</td>\n",
              "      <td>81.2 ms</td>\n",
              "      <td>69.56 persen</td>\n",
              "    </tr>\n",
              "    <tr>\n",
              "      <th>2</th>\n",
              "      <td>XL :</td>\n",
              "      <td>6.06 Mbps</td>\n",
              "      <td>8.86 Mbps</td>\n",
              "      <td>2.93 Mbps</td>\n",
              "      <td>5.07 Mbps</td>\n",
              "      <td>61.01 ms</td>\n",
              "      <td>103.53 ms</td>\n",
              "      <td>76.22 persen</td>\n",
              "    </tr>\n",
              "    <tr>\n",
              "      <th>3</th>\n",
              "      <td>Three (3) :</td>\n",
              "      <td>3.76 Mbps</td>\n",
              "      <td>4.57 Mbps</td>\n",
              "      <td>2.82 Mbps</td>\n",
              "      <td>3.76 Mbps</td>\n",
              "      <td>59.08 ms</td>\n",
              "      <td>111.96 ms</td>\n",
              "      <td>83.66 persen</td>\n",
              "    </tr>\n",
              "    <tr>\n",
              "      <th>4</th>\n",
              "      <td>Indosat :</td>\n",
              "      <td>3.18 Mbps</td>\n",
              "      <td>4.79 Mbps</td>\n",
              "      <td>1.56 Mbps</td>\n",
              "      <td>3.17 Mbps</td>\n",
              "      <td>73.64 ms</td>\n",
              "      <td>136.44 ms</td>\n",
              "      <td>70.84 persen</td>\n",
              "    </tr>\n",
              "  </tbody>\n",
              "</table>\n",
              "</div>"
            ],
            "text/plain": [
              "       provider kecepatan_download_keseluruhan  ... Latensi (3G) ketersediaan 4G\n",
              "0   Smartfren :                     9.83 Mbps   ...            0   92.59 persen \n",
              "1  Telkomsel :                      8.42 Mbps   ...      81.2 ms    69.56 persen\n",
              "2         XL :                      6.06 Mbps   ...    103.53 ms   76.22 persen \n",
              "3   Three (3) :                     3.76 Mbps   ...    111.96 ms   83.66 persen \n",
              "4    Indosat :                      3.18 Mbps   ...    136.44 ms   70.84 persen \n",
              "\n",
              "[5 rows x 8 columns]"
            ]
          },
          "metadata": {
            "tags": []
          },
          "execution_count": 20
        }
      ]
    },
    {
      "cell_type": "markdown",
      "metadata": {
        "id": "mA4xPOkUJU7c"
      },
      "source": [
        "# Menampilkan Beberapa Kolom "
      ]
    },
    {
      "cell_type": "code",
      "metadata": {
        "colab": {
          "base_uri": "https://localhost:8080/",
          "height": 204
        },
        "id": "8aBvk-DDJXRh",
        "outputId": "5ac9ca31-70e5-4b88-e734-68e3c2364e09"
      },
      "source": [
        "import pandas as pd\n",
        "pd.read_excel('provider.xlsx', usecols=(2,4,6))"
      ],
      "execution_count": null,
      "outputs": [
        {
          "output_type": "execute_result",
          "data": {
            "text/html": [
              "<div>\n",
              "<style scoped>\n",
              "    .dataframe tbody tr th:only-of-type {\n",
              "        vertical-align: middle;\n",
              "    }\n",
              "\n",
              "    .dataframe tbody tr th {\n",
              "        vertical-align: top;\n",
              "    }\n",
              "\n",
              "    .dataframe thead th {\n",
              "        text-align: right;\n",
              "    }\n",
              "</style>\n",
              "<table border=\"1\" class=\"dataframe\">\n",
              "  <thead>\n",
              "    <tr style=\"text-align: right;\">\n",
              "      <th></th>\n",
              "      <th>kecepatan_download_4g</th>\n",
              "      <th>Kecepatan Upload</th>\n",
              "      <th>Latensi (3G)</th>\n",
              "    </tr>\n",
              "  </thead>\n",
              "  <tbody>\n",
              "    <tr>\n",
              "      <th>0</th>\n",
              "      <td>9.83 Mbps</td>\n",
              "      <td>2.73 Mbps</td>\n",
              "      <td>0</td>\n",
              "    </tr>\n",
              "    <tr>\n",
              "      <th>1</th>\n",
              "      <td>12.86 Mbps</td>\n",
              "      <td>7.26 Mbps</td>\n",
              "      <td>81.2 ms</td>\n",
              "    </tr>\n",
              "    <tr>\n",
              "      <th>2</th>\n",
              "      <td>8.86 Mbps</td>\n",
              "      <td>5.07 Mbps</td>\n",
              "      <td>103.53 ms</td>\n",
              "    </tr>\n",
              "    <tr>\n",
              "      <th>3</th>\n",
              "      <td>4.57 Mbps</td>\n",
              "      <td>3.76 Mbps</td>\n",
              "      <td>111.96 ms</td>\n",
              "    </tr>\n",
              "    <tr>\n",
              "      <th>4</th>\n",
              "      <td>4.79 Mbps</td>\n",
              "      <td>3.17 Mbps</td>\n",
              "      <td>136.44 ms</td>\n",
              "    </tr>\n",
              "  </tbody>\n",
              "</table>\n",
              "</div>"
            ],
            "text/plain": [
              "  kecepatan_download_4g Kecepatan Upload  Latensi (3G)\n",
              "0            9.83 Mbps         2.73 Mbps             0\n",
              "1            12.86 Mbps        7.26 Mbps       81.2 ms\n",
              "2            8.86 Mbps         5.07 Mbps     103.53 ms\n",
              "3            4.57 Mbps         3.76 Mbps     111.96 ms\n",
              "4            4.79 Mbps         3.17 Mbps     136.44 ms"
            ]
          },
          "metadata": {
            "tags": []
          },
          "execution_count": 21
        }
      ]
    },
    {
      "cell_type": "markdown",
      "metadata": {
        "id": "zhFMggWvJzvW"
      },
      "source": [
        "# Merubah Nama Tabel "
      ]
    },
    {
      "cell_type": "code",
      "metadata": {
        "colab": {
          "base_uri": "https://localhost:8080/",
          "height": 204
        },
        "id": "A47xW_aWJ2KA",
        "outputId": "b064bbdd-5754-4cbf-e91a-6736282862f5"
      },
      "source": [
        "import pandas as pd\n",
        "pd.read_excel('provider.xlsx', usecols=(2,4,6), names=[\"Kecepatan Download (4G)\", \"Kecepatan Upload\", \"Latensi (3G)\"])\n"
      ],
      "execution_count": null,
      "outputs": [
        {
          "output_type": "execute_result",
          "data": {
            "text/html": [
              "<div>\n",
              "<style scoped>\n",
              "    .dataframe tbody tr th:only-of-type {\n",
              "        vertical-align: middle;\n",
              "    }\n",
              "\n",
              "    .dataframe tbody tr th {\n",
              "        vertical-align: top;\n",
              "    }\n",
              "\n",
              "    .dataframe thead th {\n",
              "        text-align: right;\n",
              "    }\n",
              "</style>\n",
              "<table border=\"1\" class=\"dataframe\">\n",
              "  <thead>\n",
              "    <tr style=\"text-align: right;\">\n",
              "      <th></th>\n",
              "      <th>Kecepatan Download (4G)</th>\n",
              "      <th>Kecepatan Upload</th>\n",
              "      <th>Latensi (3G)</th>\n",
              "    </tr>\n",
              "  </thead>\n",
              "  <tbody>\n",
              "    <tr>\n",
              "      <th>0</th>\n",
              "      <td>9.83 Mbps</td>\n",
              "      <td>2.73 Mbps</td>\n",
              "      <td>0</td>\n",
              "    </tr>\n",
              "    <tr>\n",
              "      <th>1</th>\n",
              "      <td>12.86 Mbps</td>\n",
              "      <td>7.26 Mbps</td>\n",
              "      <td>81.2 ms</td>\n",
              "    </tr>\n",
              "    <tr>\n",
              "      <th>2</th>\n",
              "      <td>8.86 Mbps</td>\n",
              "      <td>5.07 Mbps</td>\n",
              "      <td>103.53 ms</td>\n",
              "    </tr>\n",
              "    <tr>\n",
              "      <th>3</th>\n",
              "      <td>4.57 Mbps</td>\n",
              "      <td>3.76 Mbps</td>\n",
              "      <td>111.96 ms</td>\n",
              "    </tr>\n",
              "    <tr>\n",
              "      <th>4</th>\n",
              "      <td>4.79 Mbps</td>\n",
              "      <td>3.17 Mbps</td>\n",
              "      <td>136.44 ms</td>\n",
              "    </tr>\n",
              "  </tbody>\n",
              "</table>\n",
              "</div>"
            ],
            "text/plain": [
              "  Kecepatan Download (4G) Kecepatan Upload Latensi (3G)\n",
              "0              9.83 Mbps        2.73 Mbps             0\n",
              "1              12.86 Mbps       7.26 Mbps       81.2 ms\n",
              "2              8.86 Mbps        5.07 Mbps     103.53 ms\n",
              "3              4.57 Mbps        3.76 Mbps     111.96 ms\n",
              "4              4.79 Mbps        3.17 Mbps     136.44 ms"
            ]
          },
          "metadata": {
            "tags": []
          },
          "execution_count": 22
        }
      ]
    },
    {
      "cell_type": "markdown",
      "metadata": {
        "id": "mUr48m_IMjpW"
      },
      "source": [
        "# Menyeleksi Baris "
      ]
    },
    {
      "cell_type": "code",
      "metadata": {
        "colab": {
          "base_uri": "https://localhost:8080/",
          "height": 326
        },
        "id": "ilawE870Mld8",
        "outputId": "d7d67f4b-8dbe-4881-b0c5-c0832649b578"
      },
      "source": [
        "import pandas as pd\n",
        "\n",
        "df = pd.read_excel('provider.xlsx')\n",
        "\n",
        "df.head()"
      ],
      "execution_count": null,
      "outputs": [
        {
          "output_type": "execute_result",
          "data": {
            "text/html": [
              "<div>\n",
              "<style scoped>\n",
              "    .dataframe tbody tr th:only-of-type {\n",
              "        vertical-align: middle;\n",
              "    }\n",
              "\n",
              "    .dataframe tbody tr th {\n",
              "        vertical-align: top;\n",
              "    }\n",
              "\n",
              "    .dataframe thead th {\n",
              "        text-align: right;\n",
              "    }\n",
              "</style>\n",
              "<table border=\"1\" class=\"dataframe\">\n",
              "  <thead>\n",
              "    <tr style=\"text-align: right;\">\n",
              "      <th></th>\n",
              "      <th>provider</th>\n",
              "      <th>kecepatan_download_keseluruhan</th>\n",
              "      <th>kecepatan_download_4g</th>\n",
              "      <th>kecepatan_download (3G)</th>\n",
              "      <th>Kecepatan Upload</th>\n",
              "      <th>Latensi (4G)</th>\n",
              "      <th>Latensi (3G)</th>\n",
              "      <th>Ketersediaan (4G)</th>\n",
              "    </tr>\n",
              "  </thead>\n",
              "  <tbody>\n",
              "    <tr>\n",
              "      <th>0</th>\n",
              "      <td>Smartfren :</td>\n",
              "      <td>9.83 Mbps</td>\n",
              "      <td>9.83 Mbps</td>\n",
              "      <td>0</td>\n",
              "      <td>2.73 Mbps</td>\n",
              "      <td>60.18 ms</td>\n",
              "      <td>0</td>\n",
              "      <td>92.59 persen</td>\n",
              "    </tr>\n",
              "    <tr>\n",
              "      <th>1</th>\n",
              "      <td>Telkomsel :</td>\n",
              "      <td>8.42 Mbps</td>\n",
              "      <td>12.86 Mbps</td>\n",
              "      <td>4.99 Mbps</td>\n",
              "      <td>7.26 Mbps</td>\n",
              "      <td>43.53 ms</td>\n",
              "      <td>81.2 ms</td>\n",
              "      <td>69.56 persen</td>\n",
              "    </tr>\n",
              "    <tr>\n",
              "      <th>2</th>\n",
              "      <td>XL :</td>\n",
              "      <td>6.06 Mbps</td>\n",
              "      <td>8.86 Mbps</td>\n",
              "      <td>2.93 Mbps</td>\n",
              "      <td>5.07 Mbps</td>\n",
              "      <td>61.01 ms</td>\n",
              "      <td>103.53 ms</td>\n",
              "      <td>76.22 persen</td>\n",
              "    </tr>\n",
              "    <tr>\n",
              "      <th>3</th>\n",
              "      <td>Three (3) :</td>\n",
              "      <td>3.76 Mbps</td>\n",
              "      <td>4.57 Mbps</td>\n",
              "      <td>2.82 Mbps</td>\n",
              "      <td>3.76 Mbps</td>\n",
              "      <td>59.08 ms</td>\n",
              "      <td>111.96 ms</td>\n",
              "      <td>83.66 persen</td>\n",
              "    </tr>\n",
              "    <tr>\n",
              "      <th>4</th>\n",
              "      <td>Indosat :</td>\n",
              "      <td>3.18 Mbps</td>\n",
              "      <td>4.79 Mbps</td>\n",
              "      <td>1.56 Mbps</td>\n",
              "      <td>3.17 Mbps</td>\n",
              "      <td>73.64 ms</td>\n",
              "      <td>136.44 ms</td>\n",
              "      <td>70.84 persen</td>\n",
              "    </tr>\n",
              "  </tbody>\n",
              "</table>\n",
              "</div>"
            ],
            "text/plain": [
              "       provider kecepatan_download_keseluruhan  ... Latensi (3G) Ketersediaan (4G)\n",
              "0   Smartfren :                     9.83 Mbps   ...            0     92.59 persen \n",
              "1  Telkomsel :                      8.42 Mbps   ...      81.2 ms      69.56 persen\n",
              "2         XL :                      6.06 Mbps   ...    103.53 ms     76.22 persen \n",
              "3   Three (3) :                     3.76 Mbps   ...    111.96 ms     83.66 persen \n",
              "4    Indosat :                      3.18 Mbps   ...    136.44 ms     70.84 persen \n",
              "\n",
              "[5 rows x 8 columns]"
            ]
          },
          "metadata": {
            "tags": []
          },
          "execution_count": 23
        }
      ]
    }
  ]
}